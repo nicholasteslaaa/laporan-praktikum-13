{
 "cells": [
  {
   "cell_type": "markdown",
   "id": "3a42653d",
   "metadata": {},
   "source": [
    "latihan mandiri 1"
   ]
  },
  {
   "cell_type": "code",
   "execution_count": 7,
   "metadata": {},
   "outputs": [
    {
     "name": "stdout",
     "output_type": "stream",
     "text": [
      "Prima!\n",
      "Prima!\n",
      "Prima!\n",
      "Prima!\n",
      "Bukan Prima!\n"
     ]
    }
   ],
   "source": [
    "def prima(n,i=1,hasil = 0):\n",
    "    if i > n:\n",
    "        if hasil == 2:\n",
    "            return \"Prima!\"\n",
    "        else:\n",
    "            return \"Bukan Prima!\"\n",
    "    if n % i == 0:\n",
    "        hasil += 1 \n",
    "    return prima(n , i+1,hasil)\n",
    "\n",
    "print(prima(11))\n",
    "print(prima(7))\n",
    "print(prima(3))\n",
    "print(prima(2))\n",
    "print(prima(6))"
   ]
  },
  {
   "cell_type": "markdown",
   "id": "dd82de2f",
   "metadata": {},
   "source": [
    "latihan mandiri 2"
   ]
  },
  {
   "cell_type": "code",
   "execution_count": 4,
   "id": "5bcfd798",
   "metadata": {},
   "outputs": [
    {
     "name": "stdout",
     "output_type": "stream",
     "text": [
      "bukan palindrom\n",
      "palindrom\n"
     ]
    }
   ],
   "source": [
    "def palindrom(kalimat,i=1):\n",
    "    kalimat = \"\".join([i for i in kalimat if i.isalpha()])\n",
    "    if i > len(kalimat):\n",
    "        return \"palindrom\"\n",
    "    if kalimat[i-1] != kalimat[::-1][i-1]:\n",
    "        return \"bukan palindrom\"\n",
    "    return palindrom(kalimat,i+1) \n",
    "       \n",
    "print(palindrom(\"papa\"))\n",
    "print(palindrom(\"papap\"))"
   ]
  },
  {
   "cell_type": "markdown",
   "id": "b5c8023d",
   "metadata": {},
   "source": [
    "latihan mandiri 3"
   ]
  },
  {
   "cell_type": "code",
   "execution_count": 17,
   "id": "bb870d28",
   "metadata": {},
   "outputs": [
    {
     "name": "stdout",
     "output_type": "stream",
     "text": [
      "25\n",
      "100\n",
      "225\n",
      "400\n",
      "625\n"
     ]
    }
   ],
   "source": [
    "def ganjil(n, i=1,hasil = 0):\n",
    "    if i > n:\n",
    "        return hasil\n",
    "    else:\n",
    "        return ganjil(n , i+2,hasil+i)\n",
    "    \n",
    "print(ganjil(10))\n",
    "print(ganjil(20))\n",
    "print(ganjil(30))\n",
    "print(ganjil(40))\n",
    "print(ganjil(50))"
   ]
  },
  {
   "cell_type": "markdown",
   "id": "e7a11b54",
   "metadata": {},
   "source": [
    "latihan mandiri 4"
   ]
  },
  {
   "cell_type": "code",
   "execution_count": 9,
   "id": "fcd1442f",
   "metadata": {},
   "outputs": [
    {
     "name": "stdout",
     "output_type": "stream",
     "text": [
      "9\n",
      "16\n",
      "7\n",
      "6\n",
      "20\n"
     ]
    }
   ],
   "source": [
    "def hello(n,i=0,hasil=0):\n",
    "    if i >= len(n):\n",
    "        return hasil\n",
    "    else:\n",
    "        return hello(n,i+1,hasil+int(n[i]))\n",
    "        \n",
    "print(hello(\"234\"))\n",
    "print(hello(\"592\"))\n",
    "print(hello(\"223\"))\n",
    "print(hello(\"123\"))\n",
    "print(hello(\"8291\"))"
   ]
  },
  {
   "cell_type": "markdown",
   "id": "d354a3b0",
   "metadata": {},
   "source": [
    "latihan mandiri 5"
   ]
  },
  {
   "cell_type": "code",
   "execution_count": 16,
   "id": "c23b9854",
   "metadata": {},
   "outputs": [
    {
     "name": "stdout",
     "output_type": "stream",
     "text": [
      "10\n",
      "56\n",
      "1\n",
      "21\n",
      "126\n"
     ]
    }
   ],
   "source": [
    "def factorial(n):\n",
    "    if n == 0:\n",
    "        return 1\n",
    "    else:\n",
    "        return n * factorial(n-1)\n",
    "\n",
    "def kombinasi(n, r):\n",
    "    return factorial(n) // (factorial(r) * factorial(n-r))\n",
    "\n",
    "print(kombinasi(5, 3))\n",
    "print(kombinasi(8, 5))\n",
    "print(kombinasi(3, 3))\n",
    "print(kombinasi(7, 5))\n",
    "print(kombinasi(9, 5))"
   ]
  }
 ],
 "metadata": {
  "kernelspec": {
   "display_name": "Python 3",
   "language": "python",
   "name": "python3"
  },
  "language_info": {
   "codemirror_mode": {
    "name": "ipython",
    "version": 3
   },
   "file_extension": ".py",
   "mimetype": "text/x-python",
   "name": "python",
   "nbconvert_exporter": "python",
   "pygments_lexer": "ipython3",
   "version": "3.12.1"
  }
 },
 "nbformat": 4,
 "nbformat_minor": 5
}
