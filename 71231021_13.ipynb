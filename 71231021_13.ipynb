{
 "cells": [
  {
   "cell_type": "markdown",
   "id": "3a42653d",
   "metadata": {},
   "source": [
    "latihan mandiri 1"
   ]
  },
  {
   "cell_type": "code",
   "execution_count": 1,
   "metadata": {},
   "outputs": [
    {
     "name": "stdout",
     "output_type": "stream",
     "text": [
      "True\n"
     ]
    }
   ],
   "source": [
    "def prima(n,i=1,hasil = 0):\n",
    "    if i > n:\n",
    "        if hasil == 2:\n",
    "            return True\n",
    "        else:\n",
    "            return False\n",
    "    if n % i == 0:\n",
    "        hasil += 1 \n",
    "    return prima(n , i+1,hasil)\n",
    "\n",
    "print(prima(11))"
   ]
  },
  {
   "cell_type": "markdown",
   "id": "dd82de2f",
   "metadata": {},
   "source": [
    "latihan mandiri 2"
   ]
  },
  {
   "cell_type": "code",
   "execution_count": 2,
   "id": "5bcfd798",
   "metadata": {},
   "outputs": [
    {
     "name": "stdout",
     "output_type": "stream",
     "text": [
      "False\n",
      "True\n"
     ]
    }
   ],
   "source": [
    "def palindrom(kalimat,i=1):\n",
    "    if i > len(kalimat):\n",
    "        return True\n",
    "    if kalimat[i-1] != kalimat[::-1][i-1]:\n",
    "        return False\n",
    "    return palindrom(kalimat,i+1) \n",
    "       \n",
    "print(palindrom(\"papa\"))\n",
    "print(palindrom(\"papap\"))"
   ]
  },
  {
   "cell_type": "markdown",
   "id": "b5c8023d",
   "metadata": {},
   "source": [
    "latihan mandiri 3"
   ]
  },
  {
   "cell_type": "code",
   "execution_count": 3,
   "id": "bb870d28",
   "metadata": {},
   "outputs": [
    {
     "name": "stdout",
     "output_type": "stream",
     "text": [
      "25\n"
     ]
    }
   ],
   "source": [
    "def ganjil(n, i=1,hasil = 0):\n",
    "    if i > n:\n",
    "        return hasil\n",
    "    else:\n",
    "        return ganjil(n , i+2,hasil+i)\n",
    "    \n",
    "print(ganjil(10))"
   ]
  },
  {
   "cell_type": "markdown",
   "id": "e7a11b54",
   "metadata": {},
   "source": [
    "latihan mandiri 4"
   ]
  },
  {
   "cell_type": "code",
   "execution_count": 4,
   "id": "fcd1442f",
   "metadata": {},
   "outputs": [
    {
     "name": "stdout",
     "output_type": "stream",
     "text": [
      "9\n"
     ]
    }
   ],
   "source": [
    "def hello(n,i=0,hasil=0):\n",
    "    if i >= len(n):\n",
    "        return hasil\n",
    "    else:\n",
    "        return hello(n,i+1,hasil+int(n[i]))\n",
    "        \n",
    "print(hello(\"234\"))"
   ]
  },
  {
   "cell_type": "markdown",
   "id": "d354a3b0",
   "metadata": {},
   "source": [
    "latihan mandiri 5"
   ]
  },
  {
   "cell_type": "code",
   "execution_count": 5,
   "id": "c23b9854",
   "metadata": {},
   "outputs": [
    {
     "name": "stdout",
     "output_type": "stream",
     "text": [
      "10\n"
     ]
    }
   ],
   "source": [
    "def factorial(n):\n",
    "    if n == 0:\n",
    "        return 1\n",
    "    else:\n",
    "        return n * factorial(n-1)\n",
    "\n",
    "def kombinasi(n, r):\n",
    "    return factorial(n) // (factorial(r) * factorial(n-r))\n",
    "\n",
    "print(kombinasi(5, 3))"
   ]
  }
 ],
 "metadata": {
  "kernelspec": {
   "display_name": "Python 3",
   "language": "python",
   "name": "python3"
  },
  "language_info": {
   "codemirror_mode": {
    "name": "ipython",
    "version": 3
   },
   "file_extension": ".py",
   "mimetype": "text/x-python",
   "name": "python",
   "nbconvert_exporter": "python",
   "pygments_lexer": "ipython3",
   "version": "3.12.1"
  }
 },
 "nbformat": 4,
 "nbformat_minor": 5
}
